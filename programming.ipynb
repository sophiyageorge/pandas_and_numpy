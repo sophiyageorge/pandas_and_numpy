{
 "cells": [
  {
   "cell_type": "code",
   "execution_count": 1,
   "metadata": {},
   "outputs": [
    {
     "name": "stdout",
     "output_type": "stream",
     "text": [
      "0\n",
      "1\n",
      "2\n",
      "3\n",
      "4\n"
     ]
    }
   ],
   "source": [
    "for i in range(5):\n",
    "    print(i)"
   ]
  },
  {
   "cell_type": "code",
   "execution_count": 3,
   "metadata": {},
   "outputs": [
    {
     "name": "stdout",
     "output_type": "stream",
     "text": [
      "{'1', '2', '4', '3', '7', '5'}\n"
     ]
    }
   ],
   "source": [
    "lis = [input(i) for i in range(10)]\n",
    "\n",
    "print(set(lis))"
   ]
  },
  {
   "cell_type": "code",
   "execution_count": 4,
   "metadata": {},
   "outputs": [
    {
     "name": "stdout",
     "output_type": "stream",
     "text": [
      "15\n"
     ]
    }
   ],
   "source": [
    "# Write a Python program to count the occurrences\n",
    "#  of each word in a given sentence.\n",
    "\n",
    "sentence =\"Write a Python program to count the occurrences of each word in a given sentence.\"\n",
    "\n",
    "word_list = sentence.split(\" \")\n",
    "word_count = len(word_list)\n",
    "print(word_count)\n"
   ]
  },
  {
   "cell_type": "code",
   "execution_count": 7,
   "metadata": {},
   "outputs": [
    {
     "name": "stdout",
     "output_type": "stream",
     "text": [
      "{'m': 2, 'a': 4, 'l': 2, 'y': 1}\n"
     ]
    }
   ],
   "source": [
    "word = \"malayalam\"\n",
    "l = len(word)\n",
    "count =0\n",
    "dict_frequency ={}\n",
    "for i in word:\n",
    "    if i in dict_frequency :\n",
    "        dict_frequency[i] +=1\n",
    "    else :\n",
    "        dict_frequency[i] = 1\n",
    "print(dict_frequency)"
   ]
  },
  {
   "cell_type": "code",
   "execution_count": 10,
   "metadata": {},
   "outputs": [
    {
     "name": "stdout",
     "output_type": "stream",
     "text": [
      "0,1,1,2,3,5,8,13,21,34,55,89,"
     ]
    }
   ],
   "source": [
    "n=10\n",
    "a=0\n",
    "b=1\n",
    "print(a,end=\",\")\n",
    "print(b,end=\",\")\n",
    "for i in range(n):\n",
    "    c=a+b\n",
    "    print(a+b,end=\",\")\n",
    "    a=b\n",
    "    b=c\n",
    "    \n"
   ]
  },
  {
   "cell_type": "code",
   "execution_count": 11,
   "metadata": {},
   "outputs": [
    {
     "name": "stdout",
     "output_type": "stream",
     "text": [
      "2450\n"
     ]
    }
   ],
   "source": [
    "# Write a Python program to find the sum of all even numbers between \n",
    "# 1 and 100.\n",
    "\n",
    "sum =0\n",
    "for i in range(100):\n",
    "    if i%2==0:\n",
    "        sum+=i\n",
    "print(sum)"
   ]
  },
  {
   "cell_type": "code",
   "execution_count": 13,
   "metadata": {},
   "outputs": [
    {
     "name": "stdout",
     "output_type": "stream",
     "text": [
      "*\n",
      "**\n",
      "***\n",
      "****\n",
      "*****\n"
     ]
    }
   ],
   "source": [
    "for i in range(5):\n",
    "    for j in range(i+1):\n",
    "        print(\"*\",end=\"\")\n",
    "    print(\"\")\n"
   ]
  },
  {
   "cell_type": "code",
   "execution_count": 14,
   "metadata": {},
   "outputs": [
    {
     "name": "stdout",
     "output_type": "stream",
     "text": [
      "dlrow olleh\n"
     ]
    }
   ],
   "source": [
    "# Write a Python function that takes a string and\n",
    "#  returns the string in reverse.\n",
    "\n",
    "s = \"hello world\"\n",
    "print(s[::-1])"
   ]
  },
  {
   "cell_type": "code",
   "execution_count": 16,
   "metadata": {},
   "outputs": [
    {
     "data": {
      "text/plain": [
       "3628800"
      ]
     },
     "execution_count": 16,
     "metadata": {},
     "output_type": "execute_result"
    }
   ],
   "source": [
    "# Write a Python function that calculates the\n",
    "#  factorial of a number using recursion.\n",
    "\n",
    "def factorial(n):\n",
    "    if n==0:\n",
    "        return 1\n",
    "    else:\n",
    "        return n * factorial(n-1)\n",
    "factorial(10)"
   ]
  },
  {
   "cell_type": "code",
   "execution_count": null,
   "metadata": {},
   "outputs": [],
   "source": [
    "#  Write a Python function to\n",
    "#  find the GCD (Greatest Common Divisor) of two numbers.\n",
    "\n"
   ]
  },
  {
   "cell_type": "code",
   "execution_count": 17,
   "metadata": {},
   "outputs": [
    {
     "name": "stdout",
     "output_type": "stream",
     "text": [
      "{1: 'hello', 2: 'hi', 3: 'world', 7: 'sona'}\n"
     ]
    }
   ],
   "source": [
    "dict1 ={1:\"hello\",2:\"hi\",3:\"ArithmeticError\",3:\"world\"}\n",
    "dict2 = {7:\"sona\"}\n",
    "dict3 =dict1|dict2\n",
    "print(dict3)"
   ]
  },
  {
   "cell_type": "code",
   "execution_count": 21,
   "metadata": {},
   "outputs": [
    {
     "name": "stdout",
     "output_type": "stream",
     "text": [
      "6\n"
     ]
    }
   ],
   "source": [
    "lis=[4,6,1,4,2,3,9]\n",
    "\n",
    "large=lis[0]\n",
    "second_large =0\n",
    "for i in lis:\n",
    "    if i>large:\n",
    "        large=i\n",
    "for i in lis:\n",
    "    if i!=large:\n",
    "        second_large=i\n",
    "\n",
    "for j in lis:\n",
    "  \n",
    "        if j<large and j>second_large :\n",
    "            second_large=j\n",
    "print(second_large)"
   ]
  },
  {
   "cell_type": "code",
   "execution_count": 23,
   "metadata": {},
   "outputs": [
    {
     "name": "stdout",
     "output_type": "stream",
     "text": [
      "alredy present\n"
     ]
    }
   ],
   "source": [
    "dict_1= {2:\"hi\",3:\"hello\"}\n",
    "i=2\n",
    "if i in dict_1.keys():\n",
    "    print(\"alredy present\")"
   ]
  },
  {
   "cell_type": "code",
   "execution_count": null,
   "metadata": {},
   "outputs": [],
   "source": []
  }
 ],
 "metadata": {
  "kernelspec": {
   "display_name": ".venv",
   "language": "python",
   "name": "python3"
  },
  "language_info": {
   "codemirror_mode": {
    "name": "ipython",
    "version": 3
   },
   "file_extension": ".py",
   "mimetype": "text/x-python",
   "name": "python",
   "nbconvert_exporter": "python",
   "pygments_lexer": "ipython3",
   "version": "3.12.5"
  }
 },
 "nbformat": 4,
 "nbformat_minor": 2
}
